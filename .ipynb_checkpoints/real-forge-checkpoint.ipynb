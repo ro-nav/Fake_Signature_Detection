{
 "cells": [
  {
   "cell_type": "markdown",
   "metadata": {},
   "source": [
    "# Import Libraries"
   ]
  },
  {
   "cell_type": "code",
   "execution_count": 1,
   "metadata": {
    "execution": {
     "iopub.execute_input": "2023-04-20T09:53:33.651895Z",
     "iopub.status.busy": "2023-04-20T09:53:33.650780Z",
     "iopub.status.idle": "2023-04-20T09:53:33.657731Z",
     "shell.execute_reply": "2023-04-20T09:53:33.656612Z",
     "shell.execute_reply.started": "2023-04-20T09:53:33.651851Z"
    }
   },
   "outputs": [],
   "source": [
    "import numpy as np\n",
    "import pandas as pd\n",
    "import matplotlib.pyplot as plt\n",
    "import cv2\n",
    "import os\n",
    "from sklearn.model_selection import train_test_split\n",
    "import tensorflow as tf\n",
    "from tensorflow.keras.layers import Conv2D, MaxPooling2D, Dense, Flatten, Dropout\n",
    "from tensorflow.keras.models import Sequential\n",
    "from tensorflow.keras.preprocessing.image import ImageDataGenerator"
   ]
  },
  {
   "cell_type": "markdown",
   "metadata": {},
   "source": [
    "# Load the real and forged signature datasets"
   ]
  },
  {
   "cell_type": "code",
   "execution_count": 2,
   "metadata": {
    "execution": {
     "iopub.execute_input": "2023-04-20T09:53:33.661383Z",
     "iopub.status.busy": "2023-04-20T09:53:33.660908Z",
     "iopub.status.idle": "2023-04-20T09:53:34.353542Z",
     "shell.execute_reply": "2023-04-20T09:53:34.352357Z",
     "shell.execute_reply.started": "2023-04-20T09:53:33.661330Z"
    }
   },
   "outputs": [],
   "source": [
    "real_path = 'dataset/original dataset'\n",
    "forge_path = 'dataset/fraud dataset'\n",
    "\n",
    "real_images = []\n",
    "for img_name in os.listdir(real_path):\n",
    "    img = cv2.imread(os.path.join(real_path, img_name), cv2.IMREAD_GRAYSCALE)\n",
    "    real_images.append(img)\n",
    "real_images = np.array(real_images, dtype=object)\n",
    "\n",
    "forge_images = []\n",
    "for img_name in os.listdir(forge_path):\n",
    "    img = cv2.imread(os.path.join(forge_path, img_name), cv2.IMREAD_GRAYSCALE)\n",
    "    forge_images.append(img)\n",
    "forge_images = np.array(forge_images, dtype=object)"
   ]
  },
  {
   "cell_type": "markdown",
   "metadata": {},
   "source": [
    "# Spliting the Training and Testing Images"
   ]
  },
  {
   "cell_type": "code",
   "execution_count": 3,
   "metadata": {
    "execution": {
     "iopub.execute_input": "2023-04-20T09:53:34.355230Z",
     "iopub.status.busy": "2023-04-20T09:53:34.354872Z",
     "iopub.status.idle": "2023-04-20T09:53:34.363275Z",
     "shell.execute_reply": "2023-04-20T09:53:34.362008Z",
     "shell.execute_reply.started": "2023-04-20T09:53:34.355188Z"
    }
   },
   "outputs": [],
   "source": [
    "real_labels = np.zeros(real_images.shape[0])\n",
    "forge_labels = np.ones(forge_images.shape[0])\n",
    "\n",
    "X = np.concatenate((real_images, forge_images), axis=0)\n",
    "y = np.concatenate((real_labels, forge_labels), axis=0)\n",
    "\n",
    "X_train, X_test, y_train, y_test = train_test_split(X, y, test_size=0.2, random_state=42)"
   ]
  },
  {
   "cell_type": "code",
   "execution_count": 4,
   "metadata": {},
   "outputs": [
    {
     "name": "stdout",
     "output_type": "stream",
     "text": [
      "(40,) (10,) (40,) (10,)\n"
     ]
    }
   ],
   "source": [
    "print(X_train.shape, X_test.shape, y_train.shape, y_test.shape)"
   ]
  },
  {
   "cell_type": "markdown",
   "metadata": {},
   "source": [
    "# Loading the Data and Normalizing it"
   ]
  },
  {
   "cell_type": "code",
   "execution_count": 5,
   "metadata": {
    "execution": {
     "iopub.execute_input": "2023-04-20T09:53:34.364843Z",
     "iopub.status.busy": "2023-04-20T09:53:34.364526Z",
     "iopub.status.idle": "2023-04-20T09:53:35.032522Z",
     "shell.execute_reply": "2023-04-20T09:53:35.031401Z",
     "shell.execute_reply.started": "2023-04-20T09:53:34.364803Z"
    }
   },
   "outputs": [],
   "source": [
    "import cv2\n",
    "import numpy as np\n",
    "\n",
    "# load the dataset\n",
    "real_path = 'dataset/original dataset'\n",
    "forge_path = 'dataset/fraud dataset'\n",
    "\n",
    "# set the image size to 128x128\n",
    "img_size = (128, 128)\n",
    "\n",
    "real_images = []\n",
    "for img_name in os.listdir(real_path):\n",
    "    img = cv2.imread(os.path.join(real_path, img_name), cv2.IMREAD_GRAYSCALE)\n",
    "    img = cv2.resize(img, img_size)\n",
    "    real_images.append(img)\n",
    "real_images = np.array(real_images)\n",
    "\n",
    "forge_images = []\n",
    "for img_name in os.listdir(forge_path):\n",
    "    img = cv2.imread(os.path.join(forge_path, img_name), cv2.IMREAD_GRAYSCALE)\n",
    "    img = cv2.resize(img, img_size)\n",
    "    forge_images.append(img)\n",
    "forge_images = np.array(forge_images)\n",
    "\n",
    "# normalize the data\n",
    "real_images = real_images.astype('float32') / 255.0\n",
    "forge_images = forge_images.astype('float32') / 255.0"
   ]
  },
  {
   "cell_type": "code",
   "execution_count": 6,
   "metadata": {},
   "outputs": [
    {
     "name": "stdout",
     "output_type": "stream",
     "text": [
      "(40,) (10,) (40,) (10,)\n"
     ]
    }
   ],
   "source": [
    "print(X_train.shape, X_test.shape, y_train.shape, y_test.shape)"
   ]
  },
  {
   "cell_type": "markdown",
   "metadata": {},
   "source": [
    "# Create labels for the real and forged signatures"
   ]
  },
  {
   "cell_type": "code",
   "execution_count": 7,
   "metadata": {
    "execution": {
     "iopub.execute_input": "2023-04-20T09:53:35.035307Z",
     "iopub.status.busy": "2023-04-20T09:53:35.034911Z",
     "iopub.status.idle": "2023-04-20T09:53:35.042697Z",
     "shell.execute_reply": "2023-04-20T09:53:35.041433Z",
     "shell.execute_reply.started": "2023-04-20T09:53:35.035269Z"
    }
   },
   "outputs": [],
   "source": [
    "import numpy as np\n",
    "\n",
    "num_real_images = len(real_images)\n",
    "num_forge_images = len(forge_images)\n",
    "\n",
    "# Create labels for the real and forged signatures\n",
    "real_labels = np.zeros(num_real_images, dtype=int)\n",
    "forge_labels = np.ones(num_forge_images, dtype=int)\n",
    "\n",
    "# Concatenate the real and forged images and labels\n",
    "X = np.concatenate((real_images, forge_images), axis=0)\n",
    "y = np.concatenate((real_labels, forge_labels), axis=0)"
   ]
  },
  {
   "cell_type": "markdown",
   "metadata": {},
   "source": [
    "# Reshaping the Training Set"
   ]
  },
  {
   "cell_type": "code",
   "execution_count": 8,
   "metadata": {
    "execution": {
     "iopub.execute_input": "2023-04-20T09:53:35.044310Z",
     "iopub.status.busy": "2023-04-20T09:53:35.043923Z",
     "iopub.status.idle": "2023-04-20T09:53:35.059485Z",
     "shell.execute_reply": "2023-04-20T09:53:35.058461Z",
     "shell.execute_reply.started": "2023-04-20T09:53:35.044278Z"
    }
   },
   "outputs": [
    {
     "name": "stdout",
     "output_type": "stream",
     "text": [
      "(40, 128, 128, 1)\n"
     ]
    }
   ],
   "source": [
    "import numpy as np\n",
    "\n",
    "# create dummy data\n",
    "X_train = np.random.rand(40, 128, 128)\n",
    "\n",
    "# add another dimension to the array\n",
    "X_train = np.expand_dims(X_train, axis=-1)\n",
    "\n",
    "# reshape the array\n",
    "X_train = X_train.reshape(X_train.shape[0], 128, 128, 1)\n",
    "\n",
    "print(X_train.shape)  # output: (40, 128, 128, 1)\n"
   ]
  },
  {
   "cell_type": "code",
   "execution_count": 9,
   "metadata": {},
   "outputs": [
    {
     "name": "stdout",
     "output_type": "stream",
     "text": [
      "(40, 128, 128, 1) (10,) (40,) (10,)\n"
     ]
    }
   ],
   "source": [
    "print(X_train.shape, X_test.shape, y_train.shape, y_test.shape)"
   ]
  },
  {
   "cell_type": "markdown",
   "metadata": {},
   "source": [
    "# Reshaping the Test Set"
   ]
  },
  {
   "cell_type": "code",
   "execution_count": 10,
   "metadata": {
    "execution": {
     "iopub.execute_input": "2023-04-20T09:53:35.063886Z",
     "iopub.status.busy": "2023-04-20T09:53:35.060950Z",
     "iopub.status.idle": "2023-04-20T09:53:35.076659Z",
     "shell.execute_reply": "2023-04-20T09:53:35.075372Z",
     "shell.execute_reply.started": "2023-04-20T09:53:35.063837Z"
    }
   },
   "outputs": [
    {
     "name": "stdout",
     "output_type": "stream",
     "text": [
      "(10, 128, 128, 1)\n"
     ]
    }
   ],
   "source": [
    "import numpy as np\n",
    "\n",
    "# create dummy data\n",
    "X_test = np.random.rand(10, 128, 128)\n",
    "\n",
    "# add another dimension to the array\n",
    "X_test = np.expand_dims(X_test, axis=-1)\n",
    "\n",
    "# reshape the array\n",
    "X_test = X_test.reshape(X_test.shape[0], 128, 128, 1)\n",
    "\n",
    "print(X_test.shape)  # output: (40, 128, 128, 1)"
   ]
  },
  {
   "cell_type": "code",
   "execution_count": 11,
   "metadata": {},
   "outputs": [
    {
     "name": "stdout",
     "output_type": "stream",
     "text": [
      "(40, 128, 128, 1) (10, 128, 128, 1) (40,) (10,)\n"
     ]
    }
   ],
   "source": [
    "print(X_train.shape, X_test.shape, y_train.shape, y_test.shape)"
   ]
  },
  {
   "cell_type": "markdown",
   "metadata": {},
   "source": [
    "# Making the CNN model"
   ]
  },
  {
   "cell_type": "code",
   "execution_count": 12,
   "metadata": {
    "execution": {
     "iopub.execute_input": "2023-04-20T09:55:06.509847Z",
     "iopub.status.busy": "2023-04-20T09:55:06.509167Z",
     "iopub.status.idle": "2023-04-20T09:55:06.668837Z",
     "shell.execute_reply": "2023-04-20T09:55:06.667273Z",
     "shell.execute_reply.started": "2023-04-20T09:55:06.509807Z"
    }
   },
   "outputs": [
    {
     "name": "stdout",
     "output_type": "stream",
     "text": [
      "Model: \"sequential\"\n",
      "_________________________________________________________________\n",
      " Layer (type)                Output Shape              Param #   \n",
      "=================================================================\n",
      " conv2d (Conv2D)             (None, 126, 126, 32)      320       \n",
      "                                                                 \n",
      " max_pooling2d (MaxPooling2  (None, 63, 63, 32)        0         \n",
      " D)                                                              \n",
      "                                                                 \n",
      " conv2d_1 (Conv2D)           (None, 61, 61, 64)        18496     \n",
      "                                                                 \n",
      " max_pooling2d_1 (MaxPoolin  (None, 30, 30, 64)        0         \n",
      " g2D)                                                            \n",
      "                                                                 \n",
      " flatten (Flatten)           (None, 57600)             0         \n",
      "                                                                 \n",
      " dense (Dense)               (None, 128)               7372928   \n",
      "                                                                 \n",
      " dropout (Dropout)           (None, 128)               0         \n",
      "                                                                 \n",
      " dense_1 (Dense)             (None, 1)                 129       \n",
      "                                                                 \n",
      "=================================================================\n",
      "Total params: 7391873 (28.20 MB)\n",
      "Trainable params: 7391873 (28.20 MB)\n",
      "Non-trainable params: 0 (0.00 Byte)\n",
      "_________________________________________________________________\n"
     ]
    }
   ],
   "source": [
    "from tensorflow.keras.models import Sequential\n",
    "from tensorflow.keras.layers import Conv2D, MaxPooling2D, Flatten, Dense, Dropout\n",
    "\n",
    "# Create a Sequential model\n",
    "model = Sequential()\n",
    "\n",
    "# Add a convolutional layer\n",
    "model.add(Conv2D(filters=32, kernel_size=(3,3), activation='relu', input_shape=(128, 128, 1)))\n",
    "\n",
    "# Add a max pooling layer\n",
    "model.add(MaxPooling2D(pool_size=(2,2)))\n",
    "\n",
    "# Add another convolutional layer\n",
    "model.add(Conv2D(filters=64, kernel_size=(3,3), activation='relu'))\n",
    "\n",
    "# Add another max pooling layer\n",
    "model.add(MaxPooling2D(pool_size=(2,2)))\n",
    "\n",
    "# Flatten the output from the convolutional layers\n",
    "model.add(Flatten())\n",
    "\n",
    "# Add a fully connected layer with 128 neurons and a relu activation function\n",
    "model.add(Dense(units=128, activation='relu'))\n",
    "\n",
    "# Add a dropout layer to reduce overfitting\n",
    "model.add(Dropout(rate=0.5))\n",
    "\n",
    "# Add the output layer with a sigmoid activation function\n",
    "model.add(Dense(units=1, activation='sigmoid'))\n",
    "\n",
    "# Print a summary of the model architecture\n",
    "model.summary()"
   ]
  },
  {
   "cell_type": "markdown",
   "metadata": {},
   "source": [
    "# Evaluating the Model"
   ]
  },
  {
   "cell_type": "code",
   "execution_count": 13,
   "metadata": {
    "execution": {
     "iopub.execute_input": "2023-04-20T09:57:25.183700Z",
     "iopub.status.busy": "2023-04-20T09:57:25.183265Z",
     "iopub.status.idle": "2023-04-20T09:57:32.235347Z",
     "shell.execute_reply": "2023-04-20T09:57:32.234192Z",
     "shell.execute_reply.started": "2023-04-20T09:57:25.183658Z"
    }
   },
   "outputs": [
    {
     "name": "stdout",
     "output_type": "stream",
     "text": [
      "Epoch 1/10\n",
      "2/2 [==============================] - 1s 346ms/step - loss: 1.3876 - accuracy: 0.5250 - val_loss: 2.5967 - val_accuracy: 0.7000\n",
      "Epoch 2/10\n",
      "2/2 [==============================] - 0s 197ms/step - loss: 4.7241 - accuracy: 0.4500 - val_loss: 0.9518 - val_accuracy: 0.7000\n",
      "Epoch 3/10\n",
      "2/2 [==============================] - 0s 189ms/step - loss: 1.4270 - accuracy: 0.4250 - val_loss: 1.3486 - val_accuracy: 0.3000\n",
      "Epoch 4/10\n",
      "2/2 [==============================] - 0s 203ms/step - loss: 0.9626 - accuracy: 0.5500 - val_loss: 1.0358 - val_accuracy: 0.3000\n",
      "Epoch 5/10\n",
      "2/2 [==============================] - 0s 190ms/step - loss: 0.7499 - accuracy: 0.5500 - val_loss: 0.7149 - val_accuracy: 0.3000\n",
      "Epoch 6/10\n",
      "2/2 [==============================] - 0s 186ms/step - loss: 0.6591 - accuracy: 0.6250 - val_loss: 0.7723 - val_accuracy: 0.3000\n",
      "Epoch 7/10\n",
      "2/2 [==============================] - 0s 186ms/step - loss: 0.7189 - accuracy: 0.5500 - val_loss: 0.8019 - val_accuracy: 0.3000\n",
      "Epoch 8/10\n",
      "2/2 [==============================] - 0s 178ms/step - loss: 0.6728 - accuracy: 0.5750 - val_loss: 0.6690 - val_accuracy: 0.7000\n",
      "Epoch 9/10\n",
      "2/2 [==============================] - 0s 183ms/step - loss: 0.6683 - accuracy: 0.6750 - val_loss: 0.6684 - val_accuracy: 0.7000\n",
      "Epoch 10/10\n",
      "2/2 [==============================] - 0s 183ms/step - loss: 0.6342 - accuracy: 0.8750 - val_loss: 0.7597 - val_accuracy: 0.3000\n"
     ]
    }
   ],
   "source": [
    "from sklearn.model_selection import train_test_split\n",
    "\n",
    "X_train, X_test, y_train, y_test = train_test_split(X, y, test_size=0.2, random_state=42)\n",
    "\n",
    "model.compile(optimizer='adam', loss='binary_crossentropy', metrics=['accuracy'])\n",
    "\n",
    "history = model.fit(X_train, y_train, batch_size=32, epochs=10, validation_data=(X_test, y_test))"
   ]
  },
  {
   "cell_type": "code",
   "execution_count": 14,
   "metadata": {},
   "outputs": [
    {
     "data": {
      "image/png": "[encoded data removed]",
      "text/plain": [
       "<PIL.Image.Image image mode=RGBA size=718x672>"
      ]
     },
     "execution_count": 14,
     "metadata": {},
     "output_type": "execute_result"
    }
   ],
   "source": [
    "import visualkeras\n",
    "\n",
    "visualkeras.layered_view(model)"
   ]
  },
  {
   "cell_type": "markdown",
   "metadata": {},
   "source": [
    "# Testing Loss and Accuracy"
   ]
  },
  {
   "cell_type": "code",
   "execution_count": 15,
   "metadata": {
    "execution": {
     "iopub.execute_input": "2023-04-20T09:57:45.260894Z",
     "iopub.status.busy": "2023-04-20T09:57:45.259724Z",
     "iopub.status.idle": "2023-04-20T09:57:45.398892Z",
     "shell.execute_reply": "2023-04-20T09:57:45.397731Z",
     "shell.execute_reply.started": "2023-04-20T09:57:45.260845Z"
    }
   },
   "outputs": [
    {
     "name": "stdout",
     "output_type": "stream",
     "text": [
      "1/1 [==============================] - 0s 37ms/step - loss: 0.7597 - accuracy: 0.3000\n",
      "Test accuracy: 0.30000001192092896\n",
      "Test loss: 0.7596935629844666\n"
     ]
    }
   ],
   "source": [
    "test_loss, test_acc = model.evaluate(X_test, y_test)\n",
    "print(\"Test accuracy:\", test_acc)\n",
    "print(\"Test loss:\", test_loss)"
   ]
  },
  {
   "cell_type": "markdown",
   "metadata": {},
   "source": [
    "# Detection of Real and Forged Signature"
   ]
  },
  {
   "cell_type": "code",
   "execution_count": 16,
   "metadata": {
    "execution": {
     "iopub.execute_input": "2023-04-20T09:58:47.501696Z",
     "iopub.status.busy": "2023-04-20T09:58:47.501296Z",
     "iopub.status.idle": "2023-04-20T09:58:47.690860Z",
     "shell.execute_reply": "2023-04-20T09:58:47.689895Z",
     "shell.execute_reply.started": "2023-04-20T09:58:47.501662Z"
    }
   },
   "outputs": [
    {
     "name": "stdout",
     "output_type": "stream",
     "text": [
      "1/1 [==============================] - 0s 69ms/step\n",
      "The signature is real.\n"
     ]
    }
   ],
   "source": [
    "# Load a signature image\n",
    "# You can change the image path and check if it is forged or real\n",
    "img = cv2.imread('dataset/original dataset/agh3_1.jpg', cv2.IMREAD_GRAYSCALE)\n",
    "img = cv2.resize(img, (128, 128))\n",
    "img = np.array(img).reshape(1, 128, 128, 1) / 255.0\n",
    "\n",
    "# Predict the class of the signature image\n",
    "prediction = model.predict(img)\n",
    "\n",
    "if prediction < 0.5:\n",
    "    print(\"The signature is real.\")\n",
    "else:\n",
    "    print(\"The signature is forged.\")"
   ]
  },
  {
   "cell_type": "code",
   "execution_count": null,
   "metadata": {},
   "outputs": [],
   "source": []
  }
 ],
 "metadata": {
  "kernelspec": {
   "display_name": "Python 3 (ipykernel)",
   "language": "python",
   "name": "python3"
  },
  "language_info": {
   "codemirror_mode": {
    "name": "ipython",
    "version": 3
   },
   "file_extension": ".py",
   "mimetype": "text/x-python",
   "name": "python",
   "nbconvert_exporter": "python",
   "pygments_lexer": "ipython3",
   "version": "3.10.9"
  }
 },
 "nbformat": 4,
 "nbformat_minor": 4
}
